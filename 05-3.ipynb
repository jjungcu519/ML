{
 "cells": [
  {
   "cell_type": "code",
   "execution_count": 1,
   "id": "35711be0-3975-4914-92dd-ed63b6b98d9c",
   "metadata": {},
   "outputs": [],
   "source": [
    "#트리 앙상블 (디시젼 트리를 여러개 만드는 것이라고 생각해라)\n",
    "#비정형 데이터: 표로 만들기 어려운 데이터 > 문장, 이미지, 음성, 영상 등 숫자로 치환해줘야함."
   ]
  },
  {
   "cell_type": "code",
   "execution_count": 4,
   "id": "041b11e5-d075-48b5-b7bb-f1aa185af985",
   "metadata": {},
   "outputs": [],
   "source": [
    "import pandas as pd\n",
    "wine = pd.read_csv('https://bit.ly/wine_csv_data')"
   ]
  },
  {
   "cell_type": "code",
   "execution_count": 6,
   "id": "121d9df6-c31e-4474-9470-da437373750c",
   "metadata": {},
   "outputs": [],
   "source": [
    "data = wine[['alcohol', 'sugar', 'pH']]\n",
    "target = wine[['class']]"
   ]
  },
  {
   "cell_type": "code",
   "execution_count": 8,
   "id": "3a44daba-d34b-4c19-81dd-276b762d3065",
   "metadata": {},
   "outputs": [],
   "source": [
    "from sklearn.model_selection import train_test_split\n",
    "train_input, test_input, train_target, test_target = \\\n",
    "train_test_split(data, target, test_size=0.2, random_state=42)"
   ]
  },
  {
   "cell_type": "code",
   "execution_count": 9,
   "id": "2380af23-17a3-45e8-a2b5-e8fb3b24c7d6",
   "metadata": {},
   "outputs": [],
   "source": [
    "from sklearn.model_selection import cross_validate\n",
    "from sklearn.ensemble import RandomForestClassifier"
   ]
  },
  {
   "cell_type": "code",
   "execution_count": 14,
   "id": "20da6e7d-9180-4605-8d63-1afd972753b4",
   "metadata": {},
   "outputs": [],
   "source": [
    "rf = RandomForestClassifier(n_jobs=-1, random_state=42)\n",
    "scores = cross_validate(rf, train_input, train_target, n_jobs=-1)"
   ]
  },
  {
   "cell_type": "code",
   "execution_count": 22,
   "id": "98372b77-4c12-4c9a-ab93-4302c0e61d19",
   "metadata": {},
   "outputs": [
    {
     "data": {
      "text/plain": [
       "{'fit_time': array([0.18784761, 0.17584252, 0.18820429, 0.2051506 , 0.21250868]),\n",
       " 'score_time': array([0.028198  , 0.02688313, 0.0278368 , 0.02795982, 0.02844977]),\n",
       " 'test_score': array([0.88461538, 0.88942308, 0.90279115, 0.88931665, 0.88642926])}"
      ]
     },
     "execution_count": 22,
     "metadata": {},
     "output_type": "execute_result"
    }
   ],
   "source": [
    "scores"
   ]
  },
  {
   "cell_type": "code",
   "execution_count": 19,
   "id": "36e355ff-4f9e-4b6c-a93d-f1d40e03f04a",
   "metadata": {},
   "outputs": [
    {
     "name": "stderr",
     "output_type": "stream",
     "text": [
      "C:\\Users\\2-13\\Desktop\\DMF\\ML\\venv\\Lib\\site-packages\\sklearn\\base.py:1473: DataConversionWarning: A column-vector y was passed when a 1d array was expected. Please change the shape of y to (n_samples,), for example using ravel().\n",
      "  return fit_method(estimator, *args, **kwargs)\n"
     ]
    },
    {
     "data": {
      "text/plain": [
       "array([0.23167441, 0.50039841, 0.26792718])"
      ]
     },
     "execution_count": 19,
     "metadata": {},
     "output_type": "execute_result"
    }
   ],
   "source": [
    "rf.fit(train_input, train_target)\n",
    "rf.feature_importances_"
   ]
  },
  {
   "cell_type": "code",
   "execution_count": 21,
   "id": "20028c9e-a2bb-405a-8a75-6998dd1430ca",
   "metadata": {},
   "outputs": [
    {
     "name": "stderr",
     "output_type": "stream",
     "text": [
      "C:\\Users\\2-13\\Desktop\\DMF\\ML\\venv\\Lib\\site-packages\\sklearn\\base.py:1473: DataConversionWarning: A column-vector y was passed when a 1d array was expected. Please change the shape of y to (n_samples,), for example using ravel().\n",
      "  return fit_method(estimator, *args, **kwargs)\n"
     ]
    },
    {
     "data": {
      "text/plain": [
       "0.8951318068116221"
      ]
     },
     "execution_count": 21,
     "metadata": {},
     "output_type": "execute_result"
    }
   ],
   "source": [
    "rf = RandomForestClassifier(oob_score=True, n_jobs=-1)\n",
    "rf.fit(train_input, train_target)\n",
    "rf.oob_score_"
   ]
  },
  {
   "cell_type": "code",
   "execution_count": 23,
   "id": "576293d1-760e-4fd1-b24c-fab5a886ac7d",
   "metadata": {},
   "outputs": [
    {
     "data": {
      "text/plain": [
       "{'fit_time': array([0.15414882, 0.23739982, 0.15678644, 0.21492314, 0.25434256]),\n",
       " 'score_time': array([0.05028892, 0.0325439 , 0.0491941 , 0.05128384, 0.03192568]),\n",
       " 'test_score': array([0.87788462, 0.87788462, 0.90086622, 0.88739172, 0.88642926]),\n",
       " 'train_score': array([0.9971133 , 0.99663219, 0.998076  , 0.997595  , 0.9978355 ])}"
      ]
     },
     "execution_count": 23,
     "metadata": {},
     "output_type": "execute_result"
    }
   ],
   "source": [
    "from sklearn.ensemble import ExtraTreesClassifier\n",
    "\n",
    "et = ExtraTreesClassifier(n_jobs=-1)\n",
    "scores = cross_validate(\n",
    "    et, train_input, train_target,\n",
    "    return_train_score=True, n_jobs=-1\n",
    ")\n",
    "\n",
    "scores"
   ]
  },
  {
   "cell_type": "code",
   "execution_count": 28,
   "id": "cd37dbd9-dc74-4a2c-ba6f-f69cb0fc36f9",
   "metadata": {},
   "outputs": [
    {
     "data": {
      "text/plain": [
       "{'fit_time': array([1.14456296, 1.17621112, 1.16857719, 1.43630743, 1.47650695]),\n",
       " 'score_time': array([0.00850749, 0.00850773, 0.00850725, 0.00807667, 0.0082438 ]),\n",
       " 'test_score': array([0.875     , 0.87211538, 0.89701636, 0.8719923 , 0.87391723]),\n",
       " 'train_score': array([0.9494828 , 0.94443108, 0.94468494, 0.94324194, 0.95045695])}"
      ]
     },
     "execution_count": 28,
     "metadata": {},
     "output_type": "execute_result"
    }
   ],
   "source": [
    "from sklearn.ensemble import GradientBoostingClassifier\n",
    "\n",
    "gb = GradientBoostingClassifier(n_estimators=500, learning_rate=0.2) #두 인자를 반비례하도록 값을 넣어야함?\n",
    "cross_validate(gb, train_input, train_target, return_train_score=True, n_jobs=-1)"
   ]
  },
  {
   "cell_type": "code",
   "execution_count": 31,
   "id": "afceed2d-b495-4b8d-a31f-c13218a589af",
   "metadata": {},
   "outputs": [
    {
     "name": "stderr",
     "output_type": "stream",
     "text": [
      "C:\\Users\\2-13\\Desktop\\DMF\\ML\\venv\\Lib\\site-packages\\sklearn\\utils\\validation.py:1339: DataConversionWarning: A column-vector y was passed when a 1d array was expected. Please change the shape of y to (n_samples, ), for example using ravel().\n",
      "  y = column_or_1d(y, warn=True)\n",
      "C:\\Users\\2-13\\Desktop\\DMF\\ML\\venv\\Lib\\site-packages\\sklearn\\utils\\validation.py:1339: DataConversionWarning: A column-vector y was passed when a 1d array was expected. Please change the shape of y to (n_samples, ), for example using ravel().\n",
      "  y = column_or_1d(y, warn=True)\n",
      "C:\\Users\\2-13\\Desktop\\DMF\\ML\\venv\\Lib\\site-packages\\sklearn\\utils\\validation.py:1339: DataConversionWarning: A column-vector y was passed when a 1d array was expected. Please change the shape of y to (n_samples, ), for example using ravel().\n",
      "  y = column_or_1d(y, warn=True)\n",
      "C:\\Users\\2-13\\Desktop\\DMF\\ML\\venv\\Lib\\site-packages\\sklearn\\utils\\validation.py:1339: DataConversionWarning: A column-vector y was passed when a 1d array was expected. Please change the shape of y to (n_samples, ), for example using ravel().\n",
      "  y = column_or_1d(y, warn=True)\n",
      "C:\\Users\\2-13\\Desktop\\DMF\\ML\\venv\\Lib\\site-packages\\sklearn\\utils\\validation.py:1339: DataConversionWarning: A column-vector y was passed when a 1d array was expected. Please change the shape of y to (n_samples, ), for example using ravel().\n",
      "  y = column_or_1d(y, warn=True)\n"
     ]
    },
    {
     "data": {
      "text/plain": [
       "{'fit_time': array([0.1743598 , 0.17199779, 0.16484928, 0.16732097, 0.15663195]),\n",
       " 'score_time': array([0.00699949, 0.00699997, 0.00698948, 0.00800395, 0.00699902]),\n",
       " 'test_score': array([0.87115385, 0.88365385, 0.90279115, 0.86621752, 0.87680462]),\n",
       " 'train_score': array([0.93192206, 0.93216262, 0.92857143, 0.93265993, 0.93554594])}"
      ]
     },
     "execution_count": 31,
     "metadata": {},
     "output_type": "execute_result"
    }
   ],
   "source": [
    "from sklearn.ensemble import HistGradientBoostingClassifier\n",
    "\n",
    "hgb = HistGradientBoostingClassifier()\n",
    "scores = cross_validate(hgb, train_input, train_target, return_train_score=True)\n",
    "scores"
   ]
  },
  {
   "cell_type": "code",
   "execution_count": null,
   "id": "421b25e3-fb5d-4a53-b3ca-d065c1780b51",
   "metadata": {},
   "outputs": [],
   "source": []
  }
 ],
 "metadata": {
  "kernelspec": {
   "display_name": "Python 3 (ipykernel)",
   "language": "python",
   "name": "python3"
  },
  "language_info": {
   "codemirror_mode": {
    "name": "ipython",
    "version": 3
   },
   "file_extension": ".py",
   "mimetype": "text/x-python",
   "name": "python",
   "nbconvert_exporter": "python",
   "pygments_lexer": "ipython3",
   "version": "3.12.4"
  }
 },
 "nbformat": 4,
 "nbformat_minor": 5
}
